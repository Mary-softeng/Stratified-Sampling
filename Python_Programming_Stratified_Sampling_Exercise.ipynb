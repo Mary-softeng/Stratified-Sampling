{
 "cells": [
  {
   "cell_type": "markdown",
   "metadata": {
    "id": "xyMO0fjEat9e"
   },
   "source": []
  },
  {
   "cell_type": "markdown",
   "metadata": {
    "id": "roBP_xMEBpqE"
   },
   "source": [
    "# Python Programming: Stratified Sampling Exercise"
   ]
  },
  {
   "cell_type": "markdown",
   "metadata": {
    "id": "c_l7pRnbX4Ws"
   },
   "source": [
    "## Example"
   ]
  },
  {
   "cell_type": "markdown",
   "metadata": {
    "id": "2g6eBvTuD1-M"
   },
   "source": [
    "We are going to use the example we looked at in the overview. Our dataset is comprised of different heights of Moringa School students. It has 10,000 entries whereby 60% are female and 40% are Male. We are going to perform stratified sampling on this population so that we can get a sample of 1000 students which has the same proportion as the population."
   ]
  },
  {
   "cell_type": "markdown",
   "metadata": {
    "id": "RM4m989jCC9m"
   },
   "source": [
    "**Import relevant Libraries**"
   ]
  },
  {
   "cell_type": "code",
   "execution_count": null,
   "metadata": {
    "id": "SqwTmeFQZqp7"
   },
   "outputs": [],
   "source": [
    "import pandas as pd\n"
   ]
  },
  {
   "cell_type": "markdown",
   "metadata": {
    "id": "Z02bhgrMCQdc"
   },
   "source": [
    "**Load the Dataset**\n",
    "\n",
    "Here is the dataset we are going to use in this example.[Dataset Download](https://drive.google.com/file/d/1ODcSRSs_isRKCAShFwnMrXdcphed9kYn/view?usp=sharing)"
   ]
  },
  {
   "cell_type": "code",
   "execution_count": null,
   "metadata": {
    "colab": {
     "base_uri": "https://localhost:8080/",
     "height": 423
    },
    "id": "e61iXAYnaNqV",
    "outputId": "bc89af4d-cd65-4262-eaec-d1b018acc3c7"
   },
   "outputs": [
    {
     "data": {
      "text/html": [
       "\n",
       "  <div id=\"df-b827483c-887e-41ae-85c3-c5119d88d1b2\">\n",
       "    <div class=\"colab-df-container\">\n",
       "      <div>\n",
       "<style scoped>\n",
       "    .dataframe tbody tr th:only-of-type {\n",
       "        vertical-align: middle;\n",
       "    }\n",
       "\n",
       "    .dataframe tbody tr th {\n",
       "        vertical-align: top;\n",
       "    }\n",
       "\n",
       "    .dataframe thead th {\n",
       "        text-align: right;\n",
       "    }\n",
       "</style>\n",
       "<table border=\"1\" class=\"dataframe\">\n",
       "  <thead>\n",
       "    <tr style=\"text-align: right;\">\n",
       "      <th></th>\n",
       "      <th>gender</th>\n",
       "      <th>ht</th>\n",
       "    </tr>\n",
       "  </thead>\n",
       "  <tbody>\n",
       "    <tr>\n",
       "      <th>0</th>\n",
       "      <td>F</td>\n",
       "      <td>55.398043</td>\n",
       "    </tr>\n",
       "    <tr>\n",
       "      <th>1</th>\n",
       "      <td>F</td>\n",
       "      <td>64.975468</td>\n",
       "    </tr>\n",
       "    <tr>\n",
       "      <th>2</th>\n",
       "      <td>F</td>\n",
       "      <td>70.591667</td>\n",
       "    </tr>\n",
       "    <tr>\n",
       "      <th>3</th>\n",
       "      <td>F</td>\n",
       "      <td>63.574479</td>\n",
       "    </tr>\n",
       "    <tr>\n",
       "      <th>4</th>\n",
       "      <td>F</td>\n",
       "      <td>62.535298</td>\n",
       "    </tr>\n",
       "    <tr>\n",
       "      <th>...</th>\n",
       "      <td>...</td>\n",
       "      <td>...</td>\n",
       "    </tr>\n",
       "    <tr>\n",
       "      <th>9995</th>\n",
       "      <td>M</td>\n",
       "      <td>91.485240</td>\n",
       "    </tr>\n",
       "    <tr>\n",
       "      <th>9996</th>\n",
       "      <td>M</td>\n",
       "      <td>94.842755</td>\n",
       "    </tr>\n",
       "    <tr>\n",
       "      <th>9997</th>\n",
       "      <td>M</td>\n",
       "      <td>98.096696</td>\n",
       "    </tr>\n",
       "    <tr>\n",
       "      <th>9998</th>\n",
       "      <td>M</td>\n",
       "      <td>91.478957</td>\n",
       "    </tr>\n",
       "    <tr>\n",
       "      <th>9999</th>\n",
       "      <td>M</td>\n",
       "      <td>88.849197</td>\n",
       "    </tr>\n",
       "  </tbody>\n",
       "</table>\n",
       "<p>10000 rows × 2 columns</p>\n",
       "</div>\n",
       "      <button class=\"colab-df-convert\" onclick=\"convertToInteractive('df-b827483c-887e-41ae-85c3-c5119d88d1b2')\"\n",
       "              title=\"Convert this dataframe to an interactive table.\"\n",
       "              style=\"display:none;\">\n",
       "        \n",
       "  <svg xmlns=\"http://www.w3.org/2000/svg\" height=\"24px\"viewBox=\"0 0 24 24\"\n",
       "       width=\"24px\">\n",
       "    <path d=\"M0 0h24v24H0V0z\" fill=\"none\"/>\n",
       "    <path d=\"M18.56 5.44l.94 2.06.94-2.06 2.06-.94-2.06-.94-.94-2.06-.94 2.06-2.06.94zm-11 1L8.5 8.5l.94-2.06 2.06-.94-2.06-.94L8.5 2.5l-.94 2.06-2.06.94zm10 10l.94 2.06.94-2.06 2.06-.94-2.06-.94-.94-2.06-.94 2.06-2.06.94z\"/><path d=\"M17.41 7.96l-1.37-1.37c-.4-.4-.92-.59-1.43-.59-.52 0-1.04.2-1.43.59L10.3 9.45l-7.72 7.72c-.78.78-.78 2.05 0 2.83L4 21.41c.39.39.9.59 1.41.59.51 0 1.02-.2 1.41-.59l7.78-7.78 2.81-2.81c.8-.78.8-2.07 0-2.86zM5.41 20L4 18.59l7.72-7.72 1.47 1.35L5.41 20z\"/>\n",
       "  </svg>\n",
       "      </button>\n",
       "      \n",
       "  <style>\n",
       "    .colab-df-container {\n",
       "      display:flex;\n",
       "      flex-wrap:wrap;\n",
       "      gap: 12px;\n",
       "    }\n",
       "\n",
       "    .colab-df-convert {\n",
       "      background-color: #E8F0FE;\n",
       "      border: none;\n",
       "      border-radius: 50%;\n",
       "      cursor: pointer;\n",
       "      display: none;\n",
       "      fill: #1967D2;\n",
       "      height: 32px;\n",
       "      padding: 0 0 0 0;\n",
       "      width: 32px;\n",
       "    }\n",
       "\n",
       "    .colab-df-convert:hover {\n",
       "      background-color: #E2EBFA;\n",
       "      box-shadow: 0px 1px 2px rgba(60, 64, 67, 0.3), 0px 1px 3px 1px rgba(60, 64, 67, 0.15);\n",
       "      fill: #174EA6;\n",
       "    }\n",
       "\n",
       "    [theme=dark] .colab-df-convert {\n",
       "      background-color: #3B4455;\n",
       "      fill: #D2E3FC;\n",
       "    }\n",
       "\n",
       "    [theme=dark] .colab-df-convert:hover {\n",
       "      background-color: #434B5C;\n",
       "      box-shadow: 0px 1px 3px 1px rgba(0, 0, 0, 0.15);\n",
       "      filter: drop-shadow(0px 1px 2px rgba(0, 0, 0, 0.3));\n",
       "      fill: #FFFFFF;\n",
       "    }\n",
       "  </style>\n",
       "\n",
       "      <script>\n",
       "        const buttonEl =\n",
       "          document.querySelector('#df-b827483c-887e-41ae-85c3-c5119d88d1b2 button.colab-df-convert');\n",
       "        buttonEl.style.display =\n",
       "          google.colab.kernel.accessAllowed ? 'block' : 'none';\n",
       "\n",
       "        async function convertToInteractive(key) {\n",
       "          const element = document.querySelector('#df-b827483c-887e-41ae-85c3-c5119d88d1b2');\n",
       "          const dataTable =\n",
       "            await google.colab.kernel.invokeFunction('convertToInteractive',\n",
       "                                                     [key], {});\n",
       "          if (!dataTable) return;\n",
       "\n",
       "          const docLinkHtml = 'Like what you see? Visit the ' +\n",
       "            '<a target=\"_blank\" href=https://colab.research.google.com/notebooks/data_table.ipynb>data table notebook</a>'\n",
       "            + ' to learn more about interactive tables.';\n",
       "          element.innerHTML = '';\n",
       "          dataTable['output_type'] = 'display_data';\n",
       "          await google.colab.output.renderOutput(dataTable, element);\n",
       "          const docLink = document.createElement('div');\n",
       "          docLink.innerHTML = docLinkHtml;\n",
       "          element.appendChild(docLink);\n",
       "        }\n",
       "      </script>\n",
       "    </div>\n",
       "  </div>\n",
       "  "
      ],
      "text/plain": [
       "     gender         ht\n",
       "0         F  55.398043\n",
       "1         F  64.975468\n",
       "2         F  70.591667\n",
       "3         F  63.574479\n",
       "4         F  62.535298\n",
       "...     ...        ...\n",
       "9995      M  91.485240\n",
       "9996      M  94.842755\n",
       "9997      M  98.096696\n",
       "9998      M  91.478957\n",
       "9999      M  88.849197\n",
       "\n",
       "[10000 rows x 2 columns]"
      ]
     },
     "execution_count": 19,
     "metadata": {},
     "output_type": "execute_result"
    }
   ],
   "source": [
    "# Load the data into a panda dataframe\n",
    "data= pd.read_csv('/content/Gender_heights.csv')\n",
    "\n",
    "# Check out the data\n",
    "data\n",
    "\n"
   ]
  },
  {
   "cell_type": "code",
   "execution_count": null,
   "metadata": {
    "colab": {
     "base_uri": "https://localhost:8080/"
    },
    "id": "9SDKk4eUGrx_",
    "outputId": "8850ace2-e5a2-4a04-d890-3cafb9e2df09"
   },
   "outputs": [
    {
     "data": {
      "text/plain": [
       "F    6000\n",
       "M    4000\n",
       "Name: gender, dtype: int64"
      ]
     },
     "execution_count": 20,
     "metadata": {},
     "output_type": "execute_result"
    }
   ],
   "source": [
    "# Now we will confirm how many Female students and Male students are there in our dataset.\n",
    "# To achieve this we will use pandas .value_count() method. This method outputs the number of times a value appears in a column.\n",
    "data['gender'].value_counts()"
   ]
  },
  {
   "cell_type": "markdown",
   "metadata": {
    "id": "_u_K93F9KrS-"
   },
   "source": [
    "Now that we have confirmed that our popluation follows the correct proportion, we are going to first create a random sample of 1000 students without stratification just to see how it behaves."
   ]
  },
  {
   "cell_type": "code",
   "execution_count": null,
   "metadata": {
    "colab": {
     "base_uri": "https://localhost:8080/"
    },
    "id": "-tWJJwM7LJn6",
    "outputId": "d9e43467-39fd-4f3d-e612-417a02c1f707"
   },
   "outputs": [
    {
     "name": "stdout",
     "output_type": "stream",
     "text": [
      "F    603\n",
      "M    397\n",
      "Name: gender, dtype: int64\n"
     ]
    }
   ],
   "source": [
    "# To create a random sample from a dataframe we use the pandas sample method. You can read more about it here.https://pandas.pydata.org/pandas-docs/stable/reference/api/pandas.DataFrame.sample.html\n",
    "# We pass in an argument called frac which symbolises the fraction of the population we want to use as our sample\n",
    "\n",
    "# Non stratified sample\n",
    "non_strat_output = data.sample(frac=0.1) \n",
    "\n",
    "# check the proportion of the non_stratified sample\n",
    "print(non_strat_output['gender'].value_counts())"
   ]
  },
  {
   "cell_type": "markdown",
   "metadata": {
    "id": "9KY2PgCAUsa5"
   },
   "source": [
    "Run the code several times, taking note of the proportion of Female and Male. What do you notice?\n",
    "\n",
    "When you run it several time, you'll notice that the proportion varies each time. Although it ranges closely to our desired proportion, its not quite the 60-40 proportion we want. To remedy it, this is where stratified sampling comes in handy.\n",
    "\n",
    "Let's us create a stratified random sample and see how it behaves"
   ]
  },
  {
   "cell_type": "code",
   "execution_count": null,
   "metadata": {
    "cellView": "both",
    "colab": {
     "base_uri": "https://localhost:8080/"
    },
    "id": "Mgxm7zGZWHj5",
    "outputId": "34c0a1a8-7b21-4f77-dd90-f1382b18d814"
   },
   "outputs": [
    {
     "name": "stdout",
     "output_type": "stream",
     "text": [
      "F    600\n",
      "M    400\n",
      "Name: gender, dtype: int64\n",
      "     gender         ht\n",
      "2409      F  58.500482\n",
      "1717      F  55.551748\n",
      "205       F  62.543561\n",
      "5501      F  59.837870\n",
      "4379      F  60.737839\n",
      "...     ...        ...\n",
      "6786      M  93.458558\n",
      "6643      M  90.523722\n",
      "9193      M  93.152542\n",
      "6964      M  87.893548\n",
      "9034      M  84.545255\n",
      "\n",
      "[1000 rows x 2 columns]\n"
     ]
    }
   ],
   "source": [
    "\n",
    "# To create a stratified random sample we'll use pandas groupBy method. Basically what the method does is that it splits our dataset into sets\n",
    "# and then applies a function on each subset.\n",
    "# In our case, we are going to applies a function that puts each subset into a random sample with a size of 100.\n",
    "# The beauty about this method is that it strictly maintains the populations proportion.\n",
    "\n",
    "# Stratified sample\n",
    "strat_output = data.groupby('gender', group_keys=False).apply(lambda grouped_subset : grouped_subset.sample(frac=0.1))\n",
    "\n",
    "# proportion of the non_stratified sample\n",
    "print(strat_output['gender'].value_counts())\n",
    "\n",
    "# Check the stratified output\n",
    "print(strat_output)\n",
    "\n",
    " "
   ]
  },
  {
   "cell_type": "markdown",
   "metadata": {
    "id": "xIswFcWu4X-M"
   },
   "source": [
    "## <font color=\"green\">Challenges</font>"
   ]
  },
  {
   "cell_type": "code",
   "execution_count": null,
   "metadata": {
    "colab": {
     "base_uri": "https://localhost:8080/",
     "height": 206
    },
    "id": "KKKNoN-pYBAa",
    "outputId": "9cd164a0-1dae-4a59-994d-756cd188ba88"
   },
   "outputs": [
    {
     "data": {
      "text/html": [
       "\n",
       "  <div id=\"df-3c3bf18f-ca3e-4932-b630-e69d90ac2311\">\n",
       "    <div class=\"colab-df-container\">\n",
       "      <div>\n",
       "<style scoped>\n",
       "    .dataframe tbody tr th:only-of-type {\n",
       "        vertical-align: middle;\n",
       "    }\n",
       "\n",
       "    .dataframe tbody tr th {\n",
       "        vertical-align: top;\n",
       "    }\n",
       "\n",
       "    .dataframe thead th {\n",
       "        text-align: right;\n",
       "    }\n",
       "</style>\n",
       "<table border=\"1\" class=\"dataframe\">\n",
       "  <thead>\n",
       "    <tr style=\"text-align: right;\">\n",
       "      <th></th>\n",
       "      <th>programme</th>\n",
       "      <th>gender</th>\n",
       "      <th>ht</th>\n",
       "    </tr>\n",
       "  </thead>\n",
       "  <tbody>\n",
       "    <tr>\n",
       "      <th>0</th>\n",
       "      <td>Prep</td>\n",
       "      <td>F</td>\n",
       "      <td>57.861539</td>\n",
       "    </tr>\n",
       "    <tr>\n",
       "      <th>1</th>\n",
       "      <td>Prep</td>\n",
       "      <td>F</td>\n",
       "      <td>65.550765</td>\n",
       "    </tr>\n",
       "    <tr>\n",
       "      <th>2</th>\n",
       "      <td>Core</td>\n",
       "      <td>F</td>\n",
       "      <td>52.142763</td>\n",
       "    </tr>\n",
       "    <tr>\n",
       "      <th>3</th>\n",
       "      <td>Pre-prep</td>\n",
       "      <td>F</td>\n",
       "      <td>69.453854</td>\n",
       "    </tr>\n",
       "    <tr>\n",
       "      <th>4</th>\n",
       "      <td>Pre-prep</td>\n",
       "      <td>F</td>\n",
       "      <td>54.203258</td>\n",
       "    </tr>\n",
       "  </tbody>\n",
       "</table>\n",
       "</div>\n",
       "      <button class=\"colab-df-convert\" onclick=\"convertToInteractive('df-3c3bf18f-ca3e-4932-b630-e69d90ac2311')\"\n",
       "              title=\"Convert this dataframe to an interactive table.\"\n",
       "              style=\"display:none;\">\n",
       "        \n",
       "  <svg xmlns=\"http://www.w3.org/2000/svg\" height=\"24px\"viewBox=\"0 0 24 24\"\n",
       "       width=\"24px\">\n",
       "    <path d=\"M0 0h24v24H0V0z\" fill=\"none\"/>\n",
       "    <path d=\"M18.56 5.44l.94 2.06.94-2.06 2.06-.94-2.06-.94-.94-2.06-.94 2.06-2.06.94zm-11 1L8.5 8.5l.94-2.06 2.06-.94-2.06-.94L8.5 2.5l-.94 2.06-2.06.94zm10 10l.94 2.06.94-2.06 2.06-.94-2.06-.94-.94-2.06-.94 2.06-2.06.94z\"/><path d=\"M17.41 7.96l-1.37-1.37c-.4-.4-.92-.59-1.43-.59-.52 0-1.04.2-1.43.59L10.3 9.45l-7.72 7.72c-.78.78-.78 2.05 0 2.83L4 21.41c.39.39.9.59 1.41.59.51 0 1.02-.2 1.41-.59l7.78-7.78 2.81-2.81c.8-.78.8-2.07 0-2.86zM5.41 20L4 18.59l7.72-7.72 1.47 1.35L5.41 20z\"/>\n",
       "  </svg>\n",
       "      </button>\n",
       "      \n",
       "  <style>\n",
       "    .colab-df-container {\n",
       "      display:flex;\n",
       "      flex-wrap:wrap;\n",
       "      gap: 12px;\n",
       "    }\n",
       "\n",
       "    .colab-df-convert {\n",
       "      background-color: #E8F0FE;\n",
       "      border: none;\n",
       "      border-radius: 50%;\n",
       "      cursor: pointer;\n",
       "      display: none;\n",
       "      fill: #1967D2;\n",
       "      height: 32px;\n",
       "      padding: 0 0 0 0;\n",
       "      width: 32px;\n",
       "    }\n",
       "\n",
       "    .colab-df-convert:hover {\n",
       "      background-color: #E2EBFA;\n",
       "      box-shadow: 0px 1px 2px rgba(60, 64, 67, 0.3), 0px 1px 3px 1px rgba(60, 64, 67, 0.15);\n",
       "      fill: #174EA6;\n",
       "    }\n",
       "\n",
       "    [theme=dark] .colab-df-convert {\n",
       "      background-color: #3B4455;\n",
       "      fill: #D2E3FC;\n",
       "    }\n",
       "\n",
       "    [theme=dark] .colab-df-convert:hover {\n",
       "      background-color: #434B5C;\n",
       "      box-shadow: 0px 1px 3px 1px rgba(0, 0, 0, 0.15);\n",
       "      filter: drop-shadow(0px 1px 2px rgba(0, 0, 0, 0.3));\n",
       "      fill: #FFFFFF;\n",
       "    }\n",
       "  </style>\n",
       "\n",
       "      <script>\n",
       "        const buttonEl =\n",
       "          document.querySelector('#df-3c3bf18f-ca3e-4932-b630-e69d90ac2311 button.colab-df-convert');\n",
       "        buttonEl.style.display =\n",
       "          google.colab.kernel.accessAllowed ? 'block' : 'none';\n",
       "\n",
       "        async function convertToInteractive(key) {\n",
       "          const element = document.querySelector('#df-3c3bf18f-ca3e-4932-b630-e69d90ac2311');\n",
       "          const dataTable =\n",
       "            await google.colab.kernel.invokeFunction('convertToInteractive',\n",
       "                                                     [key], {});\n",
       "          if (!dataTable) return;\n",
       "\n",
       "          const docLinkHtml = 'Like what you see? Visit the ' +\n",
       "            '<a target=\"_blank\" href=https://colab.research.google.com/notebooks/data_table.ipynb>data table notebook</a>'\n",
       "            + ' to learn more about interactive tables.';\n",
       "          element.innerHTML = '';\n",
       "          dataTable['output_type'] = 'display_data';\n",
       "          await google.colab.output.renderOutput(dataTable, element);\n",
       "          const docLink = document.createElement('div');\n",
       "          docLink.innerHTML = docLinkHtml;\n",
       "          element.appendChild(docLink);\n",
       "        }\n",
       "      </script>\n",
       "    </div>\n",
       "  </div>\n",
       "  "
      ],
      "text/plain": [
       "  programme gender         ht\n",
       "0      Prep      F  57.861539\n",
       "1      Prep      F  65.550765\n",
       "2      Core      F  52.142763\n",
       "3  Pre-prep      F  69.453854\n",
       "4  Pre-prep      F  54.203258"
      ]
     },
     "execution_count": 30,
     "metadata": {},
     "output_type": "execute_result"
    }
   ],
   "source": [
    "# Challenge 1\n",
    "# ---\n",
    "# Question: Moringa school is doing an analysis on how the students perform based on the different programmes that they offer.\n",
    "# Given a dataset of 10000 students and you are told that 50% are Core students, 25% are Prep students and 25% are Pre-prep students. \n",
    "# Also in the dataset, 60% of the students are Female and the rest are Male. \n",
    "# You are tasked with creating a stratified random sample that represents that population.\n",
    "# ---\n",
    "# Dataset Source = https://drive.google.com/file/d/10THQj3iqund_D5tgypBdeKoc2FZ9pC0S/view?usp=sharing\n",
    "# ---\n",
    "# \n",
    "moringa = pd.read_csv(\"/content/Moringa_Students_heights.csv\")\n",
    "#Read the dataset\n",
    "moringa.head()\n"
   ]
  },
  {
   "cell_type": "code",
   "execution_count": null,
   "metadata": {
    "colab": {
     "base_uri": "https://localhost:8080/"
    },
    "id": "TvcS55O3maCS",
    "outputId": "4ff0683c-4d2d-4c47-8e3a-e227431b918a"
   },
   "outputs": [
    {
     "name": "stdout",
     "output_type": "stream",
     "text": [
      "F    590\n",
      "M    410\n",
      "Name: gender, dtype: int64\n"
     ]
    }
   ],
   "source": [
    "#stratified random sample for gender\n",
    "# Non stratified sample\n",
    "moringa_non_strat = moringa.sample(frac=0.1) \n",
    "\n",
    "# check the proportion of the non_stratified sample\n",
    "print(moringa_non_strat ['gender'].value_counts())"
   ]
  },
  {
   "cell_type": "code",
   "execution_count": null,
   "metadata": {
    "colab": {
     "base_uri": "https://localhost:8080/"
    },
    "id": "mIuoXBurmm_a",
    "outputId": "d64d2ba8-da75-40de-dbc6-658fa4ea55bc"
   },
   "outputs": [
    {
     "name": "stdout",
     "output_type": "stream",
     "text": [
      "F    600\n",
      "M    400\n",
      "Name: gender, dtype: int64\n",
      "     programme gender         ht\n",
      "4916  Pre-prep      F  56.008021\n",
      "1596      Core      F  58.146749\n",
      "4017      Prep      F  64.135726\n",
      "2874      Core      F  65.073657\n",
      "5103      Core      F  59.400427\n",
      "...        ...    ...        ...\n",
      "6140      Core      M  82.936626\n",
      "6098      Prep      M  92.015177\n",
      "7893      Prep      M  80.819414\n",
      "9775  Pre-prep      M  92.218049\n",
      "9951      Core      M  92.630599\n",
      "\n",
      "[1000 rows x 3 columns]\n"
     ]
    }
   ],
   "source": [
    "# Stratified sample\n",
    "moringa_strat_output = moringa.groupby('gender', group_keys=False).apply(lambda grouped_subset : grouped_subset.sample(frac=0.1))\n",
    "\n",
    "# proportion of the non_stratified sample\n",
    "print(strat_output['gender'].value_counts())\n",
    "\n",
    "# Check the stratified output\n",
    "print(moringa_strat_output)"
   ]
  },
  {
   "cell_type": "code",
   "execution_count": null,
   "metadata": {
    "id": "1OxW-OaXnN8I"
   },
   "outputs": [],
   "source": [
    "# Stratified sample\n",
    "moringa_strat_output = moringa.groupby('gender', group_keys=False).apply(lambda grouped_subset : grouped_subset.sample(frac=0.1))\n",
    "\n",
    "# proportion of the non_stratified sample\n",
    "print(strat_output['gender'].value_counts())\n",
    "\n",
    "# Check the stratified output\n",
    "print(moringa_strat_output)"
   ]
  },
  {
   "cell_type": "code",
   "execution_count": null,
   "metadata": {
    "colab": {
     "base_uri": "https://localhost:8080/"
    },
    "id": "1FinWI5XmVFj",
    "outputId": "6b676318-fabd-4163-d830-9ac6326a55cf"
   },
   "outputs": [
    {
     "name": "stdout",
     "output_type": "stream",
     "text": [
      "Core        500\n",
      "Pre-prep    250\n",
      "Prep        250\n",
      "Name: programme, dtype: int64\n",
      "     programme gender         ht\n",
      "517       Core      F  53.286721\n",
      "6355      Core      M  96.692083\n",
      "2733      Core      F  60.378129\n",
      "6172      Core      M  88.620882\n",
      "3033      Core      F  69.078829\n",
      "...        ...    ...        ...\n",
      "230       Prep      F  60.189741\n",
      "3876      Prep      F  59.704889\n",
      "8285      Prep      M  88.584322\n",
      "5515      Prep      F  59.059555\n",
      "9829      Prep      M  83.196538\n",
      "\n",
      "[1000 rows x 3 columns]\n"
     ]
    }
   ],
   "source": [
    "#stratified random sample for gender\n",
    "# Non stratified sample\n",
    "non_strat_output = moringa.sample(frac=0.1) \n",
    "\n",
    "# check the proportion of the non_stratified sample\n",
    "# print(non_strat_output['programme'].value_counts())\n",
    "\n",
    "# Stratified sample\n",
    "moringa_strat_output = moringa.groupby('programme', group_keys=False).apply(lambda grouped_subset : grouped_subset.sample(frac=0.1))\n",
    "\n",
    "# proportion of the non_stratified sample\n",
    "print(moringa_strat_output['programme'].value_counts())\n",
    "\n",
    "# Check the stratified output\n",
    "print(moringa_strat_output)"
   ]
  },
  {
   "cell_type": "code",
   "execution_count": null,
   "metadata": {
    "colab": {
     "base_uri": "https://localhost:8080/",
     "height": 284
    },
    "id": "A3JYY6qkYOXt",
    "outputId": "3447331f-d1a5-4344-9983-7005ba45d3b8"
   },
   "outputs": [
    {
     "data": {
      "text/html": [
       "\n",
       "  <div id=\"df-2b6afb66-fb2b-44d8-a6ef-6710ffc36c56\">\n",
       "    <div class=\"colab-df-container\">\n",
       "      <div>\n",
       "<style scoped>\n",
       "    .dataframe tbody tr th:only-of-type {\n",
       "        vertical-align: middle;\n",
       "    }\n",
       "\n",
       "    .dataframe tbody tr th {\n",
       "        vertical-align: top;\n",
       "    }\n",
       "\n",
       "    .dataframe thead th {\n",
       "        text-align: right;\n",
       "    }\n",
       "</style>\n",
       "<table border=\"1\" class=\"dataframe\">\n",
       "  <thead>\n",
       "    <tr style=\"text-align: right;\">\n",
       "      <th></th>\n",
       "      <th>fixed acidity</th>\n",
       "      <th>volatile acidity</th>\n",
       "      <th>citric acid</th>\n",
       "      <th>residual sugar</th>\n",
       "      <th>chlorides</th>\n",
       "      <th>free sulfur dioxide</th>\n",
       "      <th>total sulfur dioxide</th>\n",
       "      <th>density</th>\n",
       "      <th>pH</th>\n",
       "      <th>sulphates</th>\n",
       "      <th>alcohol</th>\n",
       "      <th>quality</th>\n",
       "    </tr>\n",
       "  </thead>\n",
       "  <tbody>\n",
       "    <tr>\n",
       "      <th>0</th>\n",
       "      <td>7.4</td>\n",
       "      <td>0.70</td>\n",
       "      <td>0.00</td>\n",
       "      <td>1.9</td>\n",
       "      <td>0.076</td>\n",
       "      <td>11.0</td>\n",
       "      <td>34.0</td>\n",
       "      <td>0.9978</td>\n",
       "      <td>3.51</td>\n",
       "      <td>0.56</td>\n",
       "      <td>9.4</td>\n",
       "      <td>5</td>\n",
       "    </tr>\n",
       "    <tr>\n",
       "      <th>1</th>\n",
       "      <td>7.8</td>\n",
       "      <td>0.88</td>\n",
       "      <td>0.00</td>\n",
       "      <td>2.6</td>\n",
       "      <td>0.098</td>\n",
       "      <td>25.0</td>\n",
       "      <td>67.0</td>\n",
       "      <td>0.9968</td>\n",
       "      <td>3.20</td>\n",
       "      <td>0.68</td>\n",
       "      <td>9.8</td>\n",
       "      <td>5</td>\n",
       "    </tr>\n",
       "    <tr>\n",
       "      <th>2</th>\n",
       "      <td>7.8</td>\n",
       "      <td>0.76</td>\n",
       "      <td>0.04</td>\n",
       "      <td>2.3</td>\n",
       "      <td>0.092</td>\n",
       "      <td>15.0</td>\n",
       "      <td>54.0</td>\n",
       "      <td>0.9970</td>\n",
       "      <td>3.26</td>\n",
       "      <td>0.65</td>\n",
       "      <td>9.8</td>\n",
       "      <td>5</td>\n",
       "    </tr>\n",
       "    <tr>\n",
       "      <th>3</th>\n",
       "      <td>11.2</td>\n",
       "      <td>0.28</td>\n",
       "      <td>0.56</td>\n",
       "      <td>1.9</td>\n",
       "      <td>0.075</td>\n",
       "      <td>17.0</td>\n",
       "      <td>60.0</td>\n",
       "      <td>0.9980</td>\n",
       "      <td>3.16</td>\n",
       "      <td>0.58</td>\n",
       "      <td>9.8</td>\n",
       "      <td>6</td>\n",
       "    </tr>\n",
       "    <tr>\n",
       "      <th>4</th>\n",
       "      <td>7.4</td>\n",
       "      <td>0.70</td>\n",
       "      <td>0.00</td>\n",
       "      <td>1.9</td>\n",
       "      <td>0.076</td>\n",
       "      <td>11.0</td>\n",
       "      <td>34.0</td>\n",
       "      <td>0.9978</td>\n",
       "      <td>3.51</td>\n",
       "      <td>0.56</td>\n",
       "      <td>9.4</td>\n",
       "      <td>5</td>\n",
       "    </tr>\n",
       "  </tbody>\n",
       "</table>\n",
       "</div>\n",
       "      <button class=\"colab-df-convert\" onclick=\"convertToInteractive('df-2b6afb66-fb2b-44d8-a6ef-6710ffc36c56')\"\n",
       "              title=\"Convert this dataframe to an interactive table.\"\n",
       "              style=\"display:none;\">\n",
       "        \n",
       "  <svg xmlns=\"http://www.w3.org/2000/svg\" height=\"24px\"viewBox=\"0 0 24 24\"\n",
       "       width=\"24px\">\n",
       "    <path d=\"M0 0h24v24H0V0z\" fill=\"none\"/>\n",
       "    <path d=\"M18.56 5.44l.94 2.06.94-2.06 2.06-.94-2.06-.94-.94-2.06-.94 2.06-2.06.94zm-11 1L8.5 8.5l.94-2.06 2.06-.94-2.06-.94L8.5 2.5l-.94 2.06-2.06.94zm10 10l.94 2.06.94-2.06 2.06-.94-2.06-.94-.94-2.06-.94 2.06-2.06.94z\"/><path d=\"M17.41 7.96l-1.37-1.37c-.4-.4-.92-.59-1.43-.59-.52 0-1.04.2-1.43.59L10.3 9.45l-7.72 7.72c-.78.78-.78 2.05 0 2.83L4 21.41c.39.39.9.59 1.41.59.51 0 1.02-.2 1.41-.59l7.78-7.78 2.81-2.81c.8-.78.8-2.07 0-2.86zM5.41 20L4 18.59l7.72-7.72 1.47 1.35L5.41 20z\"/>\n",
       "  </svg>\n",
       "      </button>\n",
       "      \n",
       "  <style>\n",
       "    .colab-df-container {\n",
       "      display:flex;\n",
       "      flex-wrap:wrap;\n",
       "      gap: 12px;\n",
       "    }\n",
       "\n",
       "    .colab-df-convert {\n",
       "      background-color: #E8F0FE;\n",
       "      border: none;\n",
       "      border-radius: 50%;\n",
       "      cursor: pointer;\n",
       "      display: none;\n",
       "      fill: #1967D2;\n",
       "      height: 32px;\n",
       "      padding: 0 0 0 0;\n",
       "      width: 32px;\n",
       "    }\n",
       "\n",
       "    .colab-df-convert:hover {\n",
       "      background-color: #E2EBFA;\n",
       "      box-shadow: 0px 1px 2px rgba(60, 64, 67, 0.3), 0px 1px 3px 1px rgba(60, 64, 67, 0.15);\n",
       "      fill: #174EA6;\n",
       "    }\n",
       "\n",
       "    [theme=dark] .colab-df-convert {\n",
       "      background-color: #3B4455;\n",
       "      fill: #D2E3FC;\n",
       "    }\n",
       "\n",
       "    [theme=dark] .colab-df-convert:hover {\n",
       "      background-color: #434B5C;\n",
       "      box-shadow: 0px 1px 3px 1px rgba(0, 0, 0, 0.15);\n",
       "      filter: drop-shadow(0px 1px 2px rgba(0, 0, 0, 0.3));\n",
       "      fill: #FFFFFF;\n",
       "    }\n",
       "  </style>\n",
       "\n",
       "      <script>\n",
       "        const buttonEl =\n",
       "          document.querySelector('#df-2b6afb66-fb2b-44d8-a6ef-6710ffc36c56 button.colab-df-convert');\n",
       "        buttonEl.style.display =\n",
       "          google.colab.kernel.accessAllowed ? 'block' : 'none';\n",
       "\n",
       "        async function convertToInteractive(key) {\n",
       "          const element = document.querySelector('#df-2b6afb66-fb2b-44d8-a6ef-6710ffc36c56');\n",
       "          const dataTable =\n",
       "            await google.colab.kernel.invokeFunction('convertToInteractive',\n",
       "                                                     [key], {});\n",
       "          if (!dataTable) return;\n",
       "\n",
       "          const docLinkHtml = 'Like what you see? Visit the ' +\n",
       "            '<a target=\"_blank\" href=https://colab.research.google.com/notebooks/data_table.ipynb>data table notebook</a>'\n",
       "            + ' to learn more about interactive tables.';\n",
       "          element.innerHTML = '';\n",
       "          dataTable['output_type'] = 'display_data';\n",
       "          await google.colab.output.renderOutput(dataTable, element);\n",
       "          const docLink = document.createElement('div');\n",
       "          docLink.innerHTML = docLinkHtml;\n",
       "          element.appendChild(docLink);\n",
       "        }\n",
       "      </script>\n",
       "    </div>\n",
       "  </div>\n",
       "  "
      ],
      "text/plain": [
       "   fixed acidity  volatile acidity  citric acid  residual sugar  chlorides  \\\n",
       "0            7.4              0.70         0.00             1.9      0.076   \n",
       "1            7.8              0.88         0.00             2.6      0.098   \n",
       "2            7.8              0.76         0.04             2.3      0.092   \n",
       "3           11.2              0.28         0.56             1.9      0.075   \n",
       "4            7.4              0.70         0.00             1.9      0.076   \n",
       "\n",
       "   free sulfur dioxide  total sulfur dioxide  density    pH  sulphates  \\\n",
       "0                 11.0                  34.0   0.9978  3.51       0.56   \n",
       "1                 25.0                  67.0   0.9968  3.20       0.68   \n",
       "2                 15.0                  54.0   0.9970  3.26       0.65   \n",
       "3                 17.0                  60.0   0.9980  3.16       0.58   \n",
       "4                 11.0                  34.0   0.9978  3.51       0.56   \n",
       "\n",
       "   alcohol  quality  \n",
       "0      9.4        5  \n",
       "1      9.8        5  \n",
       "2      9.8        5  \n",
       "3      9.8        6  \n",
       "4      9.4        5  "
      ]
     },
     "execution_count": 35,
     "metadata": {},
     "output_type": "execute_result"
    }
   ],
   "source": [
    "# Challenge 2\n",
    "# ---\n",
    "# Question: A wine company would like to perform some analysis on a variety of new red wines. \n",
    "# Select a stratified sample based on wine quality from the given dataset.\n",
    "# ---\n",
    "# Dataset url = http://bit.ly/RedWinesDataset\n",
    "# ---\n",
    "# \n",
    "Redwine = pd.read_csv(\"http://bit.ly/RedWinesDataset\")\n",
    "Redwine.head()"
   ]
  },
  {
   "cell_type": "code",
   "execution_count": null,
   "metadata": {
    "colab": {
     "base_uri": "https://localhost:8080/"
    },
    "id": "j4n0cl8FpXYC",
    "outputId": "e6c1fe07-cfa3-458e-f20e-63ac759ad7f1"
   },
   "outputs": [
    {
     "data": {
      "text/plain": [
       "5    681\n",
       "6    638\n",
       "7    199\n",
       "4     53\n",
       "8     18\n",
       "3     10\n",
       "Name: quality, dtype: int64"
      ]
     },
     "execution_count": 41,
     "metadata": {},
     "output_type": "execute_result"
    }
   ],
   "source": [
    "#getting the value count of quality\n",
    "Redwine['quality'].value_counts()"
   ]
  },
  {
   "cell_type": "code",
   "execution_count": null,
   "metadata": {
    "colab": {
     "base_uri": "https://localhost:8080/"
    },
    "id": "uxp2g7UUn2Zm",
    "outputId": "3b2da5b8-c1de-498a-aae8-60a63c4916fb"
   },
   "outputs": [
    {
     "name": "stdout",
     "output_type": "stream",
     "text": [
      "5    71\n",
      "6    62\n",
      "7    19\n",
      "4     6\n",
      "8     2\n",
      "Name: quality, dtype: int64\n",
      "5    68\n",
      "6    64\n",
      "7    20\n",
      "4     5\n",
      "8     2\n",
      "3     1\n",
      "Name: quality, dtype: int64\n",
      "      fixed acidity  volatile acidity  citric acid  residual sugar  chlorides  \\\n",
      "899             8.3             1.020         0.02             3.4      0.084   \n",
      "1176            6.5             0.880         0.03             5.6      0.079   \n",
      "224             8.4             0.635         0.36             2.0      0.089   \n",
      "647             8.3             0.845         0.01             2.2      0.070   \n",
      "1233           10.2             0.230         0.37             2.2      0.057   \n",
      "...             ...               ...          ...             ...        ...   \n",
      "538            12.9             0.350         0.49             5.8      0.066   \n",
      "978             7.0             0.400         0.32             3.6      0.061   \n",
      "902             7.4             0.635         0.10             2.4      0.080   \n",
      "1061            9.1             0.400         0.50             1.8      0.071   \n",
      "440            12.6             0.310         0.72             2.2      0.072   \n",
      "\n",
      "      free sulfur dioxide  total sulfur dioxide  density    pH  sulphates  \\\n",
      "899                   6.0                  11.0  0.99892  3.48       0.49   \n",
      "1176                 23.0                  47.0  0.99572  3.58       0.50   \n",
      "224                  15.0                  55.0  0.99745  3.31       0.57   \n",
      "647                   5.0                  14.0  0.99670  3.32       0.58   \n",
      "1233                 14.0                  36.0  0.99614  3.23       0.49   \n",
      "...                   ...                   ...      ...   ...        ...   \n",
      "538                   5.0                  35.0  1.00140  3.20       0.66   \n",
      "978                   9.0                  29.0  0.99416  3.28       0.49   \n",
      "902                  16.0                  33.0  0.99736  3.58       0.69   \n",
      "1061                  7.0                  16.0  0.99462  3.21       0.69   \n",
      "440                   6.0                  29.0  0.99870  2.88       0.82   \n",
      "\n",
      "      alcohol  quality  \n",
      "899      11.0        3  \n",
      "1176     11.2        4  \n",
      "224      10.4        4  \n",
      "647      11.0        4  \n",
      "1233      9.3        4  \n",
      "...       ...      ...  \n",
      "538      12.0        7  \n",
      "978      11.3        7  \n",
      "902      10.8        7  \n",
      "1061     12.5        8  \n",
      "440       9.8        8  \n",
      "\n",
      "[160 rows x 12 columns]\n"
     ]
    }
   ],
   "source": [
    "# Non stratified sample\n",
    "Redwine_non_stra = Redwine.sample(frac=0.1) \n",
    "\n",
    "# check the proportion of the non_stratified sample\n",
    "print(Redwine_non_stra['quality'].value_counts())\n",
    "\n",
    "# Stratified sample\n",
    "Redwine_strat_output = Redwine.groupby('quality', group_keys=False).apply(lambda grouped_subset : grouped_subset.sample(frac=0.1))\n",
    "\n",
    "# proportion of the non_stratified sample\n",
    "print(Redwine_strat_output['quality'].value_counts())\n",
    "\n",
    "# Check the stratified output\n"
   ]
  },
  {
   "cell_type": "code",
   "execution_count": null,
   "metadata": {
    "id": "qY0aF-pJZzzs"
   },
   "outputs": [],
   "source": [
    "# Challenge 3\n",
    "# ---\n",
    "# Question: You have been provided with a list of employees of a certain company with some details about their gender (male/female) \n",
    "# and their type of employment (full-time/part-time). The HR team wants to conduct a survey on the working condition \n",
    "# that will be representative of the general opinion without interviewing every employee. \n",
    "# They request you conduct stratified sampling before any analysis is done. \n",
    "# ---\n",
    "# Dataset url = http://bit.ly/StratifiedEmployeeDataset\n",
    "# ---\n",
    "# Hint: Perform EDA first\n",
    "# ---\n",
    "#\n",
    "\n",
    "Employee = pd.read_excel(\"/content/employee dataset.xls\")\n",
    "Employee.head()"
   ]
  },
  {
   "cell_type": "code",
   "execution_count": null,
   "metadata": {
    "id": "el8UxpO3qAFH"
   },
   "outputs": [],
   "source": []
  }
 ],
 "metadata": {
  "colab": {
   "collapsed_sections": [
    "c_l7pRnbX4Ws",
    "xIswFcWu4X-M"
   ],
   "name": "Python Programming: Stratified Sampling Exercise",
   "provenance": []
  },
  "kernelspec": {
   "display_name": "Python 3 (ipykernel)",
   "language": "python",
   "name": "python3"
  },
  "language_info": {
   "codemirror_mode": {
    "name": "ipython",
    "version": 3
   },
   "file_extension": ".py",
   "mimetype": "text/x-python",
   "name": "python",
   "nbconvert_exporter": "python",
   "pygments_lexer": "ipython3",
   "version": "3.8.8"
  }
 },
 "nbformat": 4,
 "nbformat_minor": 1
}
